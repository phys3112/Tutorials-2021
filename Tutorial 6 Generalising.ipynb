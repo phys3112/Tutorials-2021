{
 "cells": [
  {
   "cell_type": "code",
   "execution_count": 1,
   "metadata": {},
   "outputs": [],
   "source": [
    "import numpy as np\n",
    "from matplotlib import pyplot as plt"
   ]
  },
  {
   "cell_type": "markdown",
   "metadata": {},
   "source": [
    "# Inhomogneous mesh\n",
    "\n",
    "We will be modeling the 1D poisson equation but now, when the mesh is made of two diffrent media (materials)."
   ]
  },
  {
   "cell_type": "code",
   "execution_count": 2,
   "metadata": {},
   "outputs": [],
   "source": [
    "# We make a function for producing the typical forward difference matrix\n",
    "def forward_diff_mat(nodes):\n",
    "    return np.diag([-2]*nodes,0) + np.diag([1]*(nodes-1),1) + np.diag([1]*(nodes-1),-1)"
   ]
  },
  {
   "cell_type": "code",
   "execution_count": 3,
   "metadata": {},
   "outputs": [
    {
     "name": "stdout",
     "output_type": "stream",
     "text": [
      "# material 0 nodes = 3, # material 1 nodes = 2\n"
     ]
    }
   ],
   "source": [
    "# Similar to as last time, we will use a 1D mesh.\n",
    "\n",
    "nodes = 5 #Number of nodes we will have in our simulation domain.\n",
    "length = 1 #m, the length of our domain.\n",
    "a = length/(nodes-1) # The step size 'a', in metres. \n",
    "\n",
    "eps_0 = 0.5 # epsilon for material 0\n",
    "eps_1 = 10 # epsilon for material 1\n",
    "\n",
    "split_ratio = 0.6\n",
    "\n",
    "nodes_0 = round(split_ratio*nodes)\n",
    "nodes_1 = round((1-split_ratio)*nodes)\n",
    "\n",
    "print(\"# material 0 nodes = \" + str(nodes_0) + \", # material 1 nodes = \" + str(nodes_1))"
   ]
  },
  {
   "cell_type": "markdown",
   "metadata": {},
   "source": [
    "To create the Poisson matrix we will follow this recipie:\n",
    "\n",
    "1. Make 2 small square materacies, one for each material of size nodes_in_material+1\n",
    "2. Modify each of the square matracies to include the interaction point\n",
    "3. Pad the square matracies a larger square matrix of size nodes\n",
    "4. Multiply the bigger matracies with ther respective epsilon values\n",
    "5. Add the two matracies to give our final poisson matrix\n",
    "\n",
    "\n",
    "Note this is absolutly not the only way to do this and may not even be the easiest. You may find using nested loops is more intuative to you."
   ]
  },
  {
   "cell_type": "code",
   "execution_count": 4,
   "metadata": {},
   "outputs": [
    {
     "name": "stdout",
     "output_type": "stream",
     "text": [
      "[[-2  1  0  0]\n",
      " [ 1 -2  1  0]\n",
      " [ 0  1 -2  1]\n",
      " [ 0  0  1 -2]]\n",
      "[[ 0.  0.  0.  0.]\n",
      " [ 0.  0.  0.  0.]\n",
      " [ 0.  0.  1. -1.]\n",
      " [ 0.  0.  0.  1.]]\n",
      "[[-2.  1.  0.  0.]\n",
      " [ 1. -2.  1.  0.]\n",
      " [ 0.  1. -1.  0.]\n",
      " [ 0.  0.  1. -1.]]\n"
     ]
    }
   ],
   "source": [
    "mat_0 = forward_diff_mat(nodes_0+1)\n",
    "print(mat_0)\n",
    "\n",
    "mat_0_interact = np.zeros(mat_0.shape)\n",
    "mat_0_interact[-1][-1] = 1\n",
    "mat_0_interact[-2][-2] = 1\n",
    "mat_0_interact[-2][-1] = -1\n",
    "print(mat_0_interact)\n",
    "\n",
    "mat_0_fixed = mat_0 + mat_0_interact\n",
    "\n",
    "print(mat_0_fixed)"
   ]
  },
  {
   "cell_type": "code",
   "execution_count": 5,
   "metadata": {},
   "outputs": [
    {
     "name": "stdout",
     "output_type": "stream",
     "text": [
      "[[-2  1  0]\n",
      " [ 1 -2  1]\n",
      " [ 0  1 -2]]\n",
      "[[ 1.  0.  0.]\n",
      " [-1.  1.  0.]\n",
      " [ 0.  0.  0.]]\n",
      "[[-1.  1.  0.]\n",
      " [ 0. -1.  1.]\n",
      " [ 0.  1. -2.]]\n"
     ]
    }
   ],
   "source": [
    "mat_1 = forward_diff_mat(nodes_1+1)\n",
    "print(mat_1)\n",
    "\n",
    "mat_1_interact = np.zeros(mat_1.shape)\n",
    "mat_1_interact[0][0] = 1\n",
    "mat_1_interact[1][1] = 1\n",
    "mat_1_interact[1][0] = -1\n",
    "print(mat_1_interact)\n",
    "\n",
    "mat_1_fixed = mat_1 + mat_1_interact\n",
    "\n",
    "print(mat_1_fixed)"
   ]
  },
  {
   "cell_type": "code",
   "execution_count": 6,
   "metadata": {},
   "outputs": [
    {
     "name": "stdout",
     "output_type": "stream",
     "text": [
      "[[-1.   0.5  0.   0.   0. ]\n",
      " [ 0.5 -1.   0.5  0.   0. ]\n",
      " [ 0.   0.5 -0.5  0.   0. ]\n",
      " [ 0.   0.   0.5 -0.5  0. ]\n",
      " [ 0.   0.   0.   0.   0. ]]\n"
     ]
    }
   ],
   "source": [
    "mat_0_full = np.pad(mat_0_fixed, ((0,nodes-nodes_0-1) , (0,nodes-nodes_0-1)), mode = 'constant', constant_values=(0, 0))\n",
    "mat_0_full = mat_0_full*eps_0\n",
    "print(mat_0_full)"
   ]
  },
  {
   "cell_type": "code",
   "execution_count": 7,
   "metadata": {},
   "outputs": [
    {
     "name": "stdout",
     "output_type": "stream",
     "text": [
      "[[  0.   0.   0.   0.   0.]\n",
      " [  0.   0.   0.   0.   0.]\n",
      " [  0.   0. -10.  10.   0.]\n",
      " [  0.   0.   0. -10.  10.]\n",
      " [  0.   0.   0.  10. -20.]]\n"
     ]
    }
   ],
   "source": [
    "mat_1_full = np.pad(mat_1_fixed, ((nodes-nodes_1-1,0) , (nodes-nodes_1-1,0)), mode = 'constant', constant_values=(0, 0))\n",
    "mat_1_full = mat_1_full*eps_1\n",
    "print(mat_1_full)"
   ]
  },
  {
   "cell_type": "code",
   "execution_count": 8,
   "metadata": {},
   "outputs": [
    {
     "name": "stdout",
     "output_type": "stream",
     "text": [
      "[[ -1.    0.5   0.    0.    0. ]\n",
      " [  0.5  -1.    0.5   0.    0. ]\n",
      " [  0.    0.5 -10.5  10.    0. ]\n",
      " [  0.    0.    0.5 -10.5  10. ]\n",
      " [  0.    0.    0.   10.  -20. ]]\n"
     ]
    },
    {
     "data": {
      "text/plain": [
       "<matplotlib.image.AxesImage at 0x17926c67108>"
      ]
     },
     "execution_count": 8,
     "metadata": {},
     "output_type": "execute_result"
    },
    {
     "data": {
      "image/png": "[encoded data removed]",
      "text/plain": [
       "<Figure size 288x288 with 1 Axes>"
      ]
     },
     "metadata": {
      "needs_background": "light"
     },
     "output_type": "display_data"
    }
   ],
   "source": [
    "Poisson_Matrix = mat_0_full + mat_1_full\n",
    "print(Poisson_Matrix)\n",
    "plt.matshow(Poisson_Matrix)"
   ]
  },
  {
   "cell_type": "code",
   "execution_count": 9,
   "metadata": {},
   "outputs": [
    {
     "data": {
      "text/plain": [
       "Text(0, 0.5, 'Voltage, V')"
      ]
     },
     "execution_count": 9,
     "metadata": {},
     "output_type": "execute_result"
    },
    {
     "data": {
      "image/png": "[encoded data removed]",
      "text/plain": [
       "<Figure size 432x288 with 1 Axes>"
      ]
     },
     "metadata": {
      "needs_background": "light"
     },
     "output_type": "display_data"
    },
    {
     "data": {
      "image/png": "[encoded data removed]",
      "text/plain": [
       "<Figure size 432x288 with 1 Axes>"
      ]
     },
     "metadata": {
      "needs_background": "light"
     },
     "output_type": "display_data"
    }
   ],
   "source": [
    "# Now we just solve the matrix like normal\n",
    "\n",
    "# Construct rho\n",
    "centre = length/2\n",
    "rho = np.zeros(nodes)\n",
    "for i in range(nodes):\n",
    "    x = i*a - centre # Find our position relative to centre\n",
    "    rho[i] = 0.5*x\n",
    "\n",
    "plt.figure()\n",
    "plt.plot(rho)\n",
    "\n",
    "rho_mod = rho*-1*a**2\n",
    "\n",
    "# Finally, let's generate a solution via matrix inversion. As always, this is quite a slow method (but we're lazy :) )\n",
    "V = np.linalg.solve(Poisson_Matrix, rho_mod)\n",
    "plt.figure()\n",
    "plt.plot(V)\n",
    "plt.ylabel('Voltage, V')"
   ]
  },
  {
   "cell_type": "markdown",
   "metadata": {},
   "source": [
    "**Homework**\n",
    "\n",
    "- Play around with the mesh node values, split ratio and epsilon values\n",
    "- Try another method of creating the Poisson Matrix\n",
    "- Have the more than one material transition point (Hard)\n",
    "- Add an extra material (Hard)"
   ]
  },
  {
   "cell_type": "markdown",
   "metadata": {},
   "source": [
    "# Moving to 2D\n",
    "\n",
    "Here we will be simulating a 2D poisson. This time the Poisson matrix is easy to make but now setting up rho will give us some trouble."
   ]
  },
  {
   "cell_type": "code",
   "execution_count": 10,
   "metadata": {},
   "outputs": [
    {
     "name": "stdout",
     "output_type": "stream",
     "text": [
      "[[-4  1  0  1  0  0  0  0  0  0  0  0  0  0  0  0]\n",
      " [ 1 -4  1  0  1  0  0  0  0  0  0  0  0  0  0  0]\n",
      " [ 0  1 -4  1  0  1  0  0  0  0  0  0  0  0  0  0]\n",
      " [ 1  0  1 -4  1  0  1  0  0  0  0  0  0  0  0  0]\n",
      " [ 0  1  0  1 -4  1  0  1  0  0  0  0  0  0  0  0]\n",
      " [ 0  0  1  0  1 -4  1  0  1  0  0  0  0  0  0  0]\n",
      " [ 0  0  0  1  0  1 -4  1  0  1  0  0  0  0  0  0]\n",
      " [ 0  0  0  0  1  0  1 -4  1  0  1  0  0  0  0  0]\n",
      " [ 0  0  0  0  0  1  0  1 -4  1  0  1  0  0  0  0]\n",
      " [ 0  0  0  0  0  0  1  0  1 -4  1  0  1  0  0  0]\n",
      " [ 0  0  0  0  0  0  0  1  0  1 -4  1  0  1  0  0]\n",
      " [ 0  0  0  0  0  0  0  0  1  0  1 -4  1  0  1  0]\n",
      " [ 0  0  0  0  0  0  0  0  0  1  0  1 -4  1  0  1]\n",
      " [ 0  0  0  0  0  0  0  0  0  0  1  0  1 -4  1  0]\n",
      " [ 0  0  0  0  0  0  0  0  0  0  0  1  0  1 -4  1]\n",
      " [ 0  0  0  0  0  0  0  0  0  0  0  0  1  0  1 -4]]\n"
     ]
    },
    {
     "data": {
      "text/plain": [
       "<matplotlib.image.AxesImage at 0x179275372c8>"
      ]
     },
     "execution_count": 10,
     "metadata": {},
     "output_type": "execute_result"
    },
    {
     "data": {
      "image/png": "[encoded data removed]",
      "text/plain": [
       "<Figure size 288x288 with 1 Axes>"
      ]
     },
     "metadata": {
      "needs_background": "light"
     },
     "output_type": "display_data"
    }
   ],
   "source": [
    "# This time we will be setting the number of nodes in each direction and the \"a\" value directly\n",
    "\n",
    "x_nodes = 4 #Number of x nodes\n",
    "y_nodes = 4 #Number of x nodes\n",
    "nodes = x_nodes*y_nodes\n",
    "a = 1.0 # The step size 'a', in metres.\n",
    "\n",
    "# We need to include two additional offset diagonals  \n",
    "# Note that \\ is used to split a python commanand over multiple lines, its is purly for aesthetic use\n",
    "Poisson_Matrix =  np.diag([-4]*nodes,0) + np.diag([1]*(nodes-1),1) + np.diag([1]*(nodes-1),-1) \\\n",
    "                                        + np.diag([1]*(nodes-3),3) + np.diag([1]*(nodes-3),-3)\n",
    "    \n",
    "print(Poisson_Matrix)\n",
    "plt.matshow(Poisson_Matrix)"
   ]
  },
  {
   "cell_type": "code",
   "execution_count": 11,
   "metadata": {},
   "outputs": [],
   "source": [
    "# A function which will show the matrix as a plot with a colour bar, so we can read the values\n",
    "def matshow_cbar(mat):\n",
    "    fig = plt.figure()\n",
    "    ax = fig.add_subplot(111)\n",
    "    cax = ax.matshow(mat)\n",
    "    fig.colorbar(cax)"
   ]
  },
  {
   "cell_type": "code",
   "execution_count": 12,
   "metadata": {},
   "outputs": [
    {
     "data": {
      "image/png": "[encoded data removed]",
      "text/plain": [
       "<Figure size 432x288 with 2 Axes>"
      ]
     },
     "metadata": {
      "needs_background": "light"
     },
     "output_type": "display_data"
    },
    {
     "data": {
      "image/png": "[encoded data removed]",
      "text/plain": [
       "<Figure size 432x288 with 2 Axes>"
      ]
     },
     "metadata": {
      "needs_background": "light"
     },
     "output_type": "display_data"
    }
   ],
   "source": [
    "# Use meshgrid to make two matracies which we can manipulate to make our 2d rho\n",
    "x, y = np.meshgrid(range(x_nodes), range(y_nodes))\n",
    "\n",
    "matshow_cbar(x)\n",
    "matshow_cbar(y)"
   ]
  },
  {
   "cell_type": "code",
   "execution_count": 13,
   "metadata": {},
   "outputs": [
    {
     "data": {
      "image/png": "[encoded data removed]",
      "text/plain": [
       "<Figure size 432x288 with 2 Axes>"
      ]
     },
     "metadata": {
      "needs_background": "light"
     },
     "output_type": "display_data"
    }
   ],
   "source": [
    "# Our rho function, try out some others\n",
    "mat_rho = x + y\n",
    "\n",
    "matshow_cbar(mat_rho)"
   ]
  },
  {
   "cell_type": "code",
   "execution_count": 14,
   "metadata": {},
   "outputs": [
    {
     "name": "stdout",
     "output_type": "stream",
     "text": [
      "[0 1 2 3 1 2 3 4 2 3 4 5 3 4 5 6]\n"
     ]
    }
   ],
   "source": [
    "# we ned rho as a vector of the form [v11,v21,v31, ..., v12, ...]\n",
    "#print(mat_rho)\n",
    "rho = mat_rho.flatten()\n",
    "print(rho)"
   ]
  },
  {
   "cell_type": "code",
   "execution_count": 15,
   "metadata": {},
   "outputs": [
    {
     "data": {
      "image/png": "[encoded data removed]",
      "text/plain": [
       "<Figure size 432x288 with 2 Axes>"
      ]
     },
     "metadata": {
      "needs_background": "light"
     },
     "output_type": "display_data"
    }
   ],
   "source": [
    "# finally we add our factors to rho and solve the equation\n",
    "eps = 1.0\n",
    "\n",
    "rho_mod = rho*-1*a**2*eps\n",
    "\n",
    "V = np.linalg.solve(Poisson_Matrix, rho_mod)\n",
    "\n",
    "# we then need to ravel V back into a 2d matrix\n",
    "mat_V = V.reshape(mat_rho.shape)\n",
    "\n",
    "matshow_cbar(mat_V)"
   ]
  },
  {
   "cell_type": "markdown",
   "metadata": {},
   "source": [
    "**Homework**\n",
    "\n",
    "- Make sure you understand why the matricies need to be manipulate the way they were.\n",
    "- Try out some other rho functions\n",
    "- Try out different numbers of nodes"
   ]
  },
  {
   "cell_type": "markdown",
   "metadata": {},
   "source": [
    "# Time dependant equations  \n",
    "\n",
    "Here we will simulate the 1D Heat equation which is time dependant.\n",
    "\n",
    "$$Heat equation$$\n",
    "\n",
    "This can be done using 2 methods\n",
    "1. Running through each time time step (Time evolution)\n",
    "2. The Crank-Nicholson method"
   ]
  },
  {
   "cell_type": "markdown",
   "metadata": {},
   "source": [
    "## Time evolution"
   ]
  },
  {
   "cell_type": "code",
   "execution_count": 16,
   "metadata": {},
   "outputs": [
    {
     "name": "stdout",
     "output_type": "stream",
     "text": [
      "Scale term is OK: 0.000\n"
     ]
    },
    {
     "data": {
      "image/png": "[encoded data removed]",
      "text/plain": [
       "<Figure size 576x720 with 4 Axes>"
      ]
     },
     "metadata": {
      "needs_background": "light"
     },
     "output_type": "display_data"
    }
   ],
   "source": [
    "nodes = 10\n",
    "timestep = 0.01\n",
    "length = 10\n",
    "duration = 100 # second\n",
    "a = length/nodes\n",
    "\n",
    "\n",
    "Tridiag = forward_diff_mat(nodes) # making our tridiagonal matrix\n",
    "\n",
    "alpha = 0.01 # Heat transfer coefficient\n",
    "\n",
    "# Create our vector of initial temperatures\n",
    "T_init = np.zeros(nodes)\n",
    "T_init[0] = 100 # Just putting the edge to be 100 degrees (at the moment)\n",
    "\n",
    "scale_term = alpha * timestep / (a**2)\n",
    "# Our scale term needs to be much much smaller than 1 or we might get some instability!\n",
    "if scale_term < 0.01:\n",
    "    print(\"Scale term is OK: %.3f\" % scale_term)\n",
    "else:\n",
    "    print(\"Scale term is too small!: It is %.3f\" % scale_term)\n",
    "    \n",
    "num_timesteps = round(duration/timestep) + 1\n",
    "\n",
    "T = np.zeros(nodes)\n",
    "T_list = list()\n",
    "for i in range(num_timesteps):\n",
    "    if i == 0:\n",
    "        # This is our initial condition, so we will use T_init\n",
    "        T = T_init\n",
    "    else:\n",
    "        T = T + scale_term*np.matmul(Tridiag,T)\n",
    "        \n",
    "    T_list.append(T)\n",
    "\n",
    "# Let's generate an x-vector to plot as our x axis:\n",
    "x_vec = np.arange(nodes)*a\n",
    "        \n",
    "step_list = [0,1000,5000,len(T_list)-1]\n",
    "\n",
    "fig, axs = plt.subplots(len(step_list),sharex=True, sharey=True, figsize=(8, 10))\n",
    "fig.subplots_adjust(hspace=0.5)\n",
    "for i, stepnum in enumerate(step_list):\n",
    "    axs[i].plot(x_vec,T_list[stepnum])\n",
    "    axs[i].set_xlabel('Position (m)')\n",
    "    axs[i].set_ylabel('Temperature')\n",
    "    axs[i].set_title('Time = %.2f seconds' % ((stepnum)*timestep))"
   ]
  },
  {
   "cell_type": "markdown",
   "metadata": {},
   "source": [
    "## Crank-Nicholson method"
   ]
  },
  {
   "cell_type": "code",
   "execution_count": null,
   "metadata": {},
   "outputs": [],
   "source": []
  },
  {
   "cell_type": "code",
   "execution_count": null,
   "metadata": {},
   "outputs": [],
   "source": []
  }
 ],
 "metadata": {
  "kernelspec": {
   "display_name": "Python 3",
   "language": "python",
   "name": "python3"
  },
  "language_info": {
   "codemirror_mode": {
    "name": "ipython",
    "version": 3
   },
   "file_extension": ".py",
   "mimetype": "text/x-python",
   "name": "python",
   "nbconvert_exporter": "python",
   "pygments_lexer": "ipython3",
   "version": "3.7.6"
  }
 },
 "nbformat": 4,
 "nbformat_minor": 4
}
