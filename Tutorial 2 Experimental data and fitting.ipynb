{
 "cells": [
  {
   "cell_type": "markdown",
   "metadata": {},
   "source": [
    "# Reading in files \n",
    "\n",
    "So you have done an experiment and have a file full of data, now we need to read or import that data into python to do stuff with it."
   ]
  },
  {
   "cell_type": "code",
   "execution_count": null,
   "metadata": {},
   "outputs": [],
   "source": [
    "#First we import a few packages we will need \n",
    "import numpy as np               # for dealing with math\n",
    "import pandas as pd              # for tables\n",
    "import matplotlib.pyplot as plt  # for plotting\n",
    "%matplotlib inline"
   ]
  },
  {
   "cell_type": "code",
   "execution_count": null,
   "metadata": {},
   "outputs": [],
   "source": [
    "dataTable = pd.read_csv('ExpData.txt')\n",
    "\n",
    "dataTable # printing the table"
   ]
  },
  {
   "cell_type": "code",
   "execution_count": null,
   "metadata": {},
   "outputs": [],
   "source": [
    "dataTable = pd.read_csv('ExpData.txt',sep='\\t') # Adding a separation \n",
    "\n",
    "dataTable # printing the table"
   ]
  },
  {
   "cell_type": "code",
   "execution_count": null,
   "metadata": {},
   "outputs": [],
   "source": [
    "dataTable = pd.read_csv('ExpData.txt',sep='\\t',header=1) # Setting what row to read as our heading\n",
    "dataTable.columns = [\"t\", \"v\", \"v1\"] # renaming columns headings\n",
    "\n",
    "dataTable # printing the table"
   ]
  },
  {
   "cell_type": "code",
   "execution_count": null,
   "metadata": {},
   "outputs": [],
   "source": [
    "# If I don't want one of the columns, I can just resave the table excluding the column I don't care about.\n",
    "dataTable = dataTable[[\"t\", \"v\"]]\n",
    "dataTable"
   ]
  },
  {
   "cell_type": "code",
   "execution_count": null,
   "metadata": {},
   "outputs": [],
   "source": [
    "# A quick and dirty plot of our data\n",
    "plt.plot(dataTable.t,dataTable.v)"
   ]
  },
  {
   "cell_type": "code",
   "execution_count": null,
   "metadata": {},
   "outputs": [],
   "source": [
    "#another look using dots instead of lines\n",
    "plt.plot(dataTable.t,dataTable.v,'.')"
   ]
  },
  {
   "cell_type": "markdown",
   "metadata": {},
   "source": [
    "It looks like our data needs some cleaning up, for every time value there is not a unique voltage.\n",
    "So lets try fix this, I google search \"pandas merge values if column is same\", google does't care about proper grammer.\n",
    "\n",
    "This turns up this page:\n",
    "https://stackoverflow.com/questions/46826773/how-can-i-merge-rows-by-same-value-in-a-column-in-pandas-with-aggregation-func\n",
    "\n",
    "Which brings to our attention the aggregate and groupby functions. From here we could look them up in the pandas documentaion but I will insted try my luck using the example as a base."
   ]
  },
  {
   "cell_type": "code",
   "execution_count": null,
   "metadata": {},
   "outputs": [],
   "source": [
    "#aggregation_functions = {'price': 'sum', 'amount': 'sum', 'name': 'first'}\n",
    "#df_new = df.groupby(df['id']).aggregate(aggregation_functions)\n",
    "\n",
    "fixedTable = dataTable.groupby(dataTable['t']).aggregate({'v':'mean'})\n",
    "fixedTable"
   ]
  },
  {
   "cell_type": "code",
   "execution_count": null,
   "metadata": {},
   "outputs": [],
   "source": [
    "fixedTable = dataTable.groupby(dataTable['t'],as_index=False).aggregate({'v':'mean'}) # We don't want to use t as an index\n",
    "fixedTable"
   ]
  },
  {
   "cell_type": "code",
   "execution_count": null,
   "metadata": {},
   "outputs": [],
   "source": [
    "#Getting rid of the zero offset\n",
    "print(fixedTable.v.mean())\n",
    "fixedTable.v = fixedTable.v - fixedTable.v.mean()\n",
    "fixedTable"
   ]
  },
  {
   "cell_type": "code",
   "execution_count": null,
   "metadata": {},
   "outputs": [],
   "source": [
    "plt.plot(fixedTable.t,fixedTable.v,'.')"
   ]
  },
  {
   "cell_type": "markdown",
   "metadata": {},
   "source": [
    "# Fitting to the data\n",
    "\n",
    "Lets say we wanted to get the frequency of this \n",
    "We are expecting a Sine or Cosine so we google: \"python fit sine to data\"\n",
    "And get https://scipy-lectures.org/intro/scipy/auto_examples/plot_curve_fit.html\n",
    "Which just so happens to have a perfect example"
   ]
  },
  {
   "cell_type": "code",
   "execution_count": null,
   "metadata": {},
   "outputs": [],
   "source": [
    "#set our data to the copy pasted labels\n",
    "x_data = fixedTable.t\n",
    "y_data = fixedTable.v\n",
    "\n",
    "# everything below here is copy pasted\n",
    "from scipy import optimize\n",
    "def test_func(x, a, b):\n",
    "    return a * np.sin(b * x)\n",
    "\n",
    "params, params_covariance = optimize.curve_fit(test_func, x_data, y_data, p0=[0.1, 3]) #tweaked the initial guess (p0) values\n",
    "\n",
    "print(params)\n",
    "\n",
    "\n",
    "plt.figure(figsize=(6, 4))\n",
    "plt.scatter(x_data, y_data, label='Data')\n",
    "plt.plot(x_data, test_func(x_data, params[0], params[1]), label='Fitted function')\n",
    "\n",
    "plt.legend(loc='best')\n",
    "\n",
    "plt.show()"
   ]
  },
  {
   "cell_type": "code",
   "execution_count": null,
   "metadata": {},
   "outputs": [],
   "source": [
    "# We cant see anything so let's modify the plot\n",
    "\n",
    "plt.figure(figsize=(15, 4)) #increase horizontal width\n",
    "plt.scatter(x_data, y_data, label='Data')\n",
    "\n",
    "plt.plot(x_data, test_func(x_data, params[0], params[1]), \"k\", label='Fitted function') #make the line black\n",
    "\n",
    "#plt.legend(loc='best')\n",
    "\n",
    "plt.show()"
   ]
  },
  {
   "cell_type": "markdown",
   "metadata": {},
   "source": [
    "The fit does't seem to be working.\n",
    "\n",
    "There could be a few reasons:\n",
    "- The data is too noisy\n",
    "- The initial guesses are too far from the true value\n",
    "- The function we are fitting with is not right\n",
    "\n",
    "\n",
    "Turns out the issue is fitting a periodic function to a not neatly wraping data causes issues. So we will trim our data to see if that works."
   ]
  },
  {
   "cell_type": "code",
   "execution_count": null,
   "metadata": {},
   "outputs": [],
   "source": [
    "pd.options.display.max_rows = 500 # lets us see more (500) pandas rows\n",
    "fixedTable[:500]"
   ]
  },
  {
   "cell_type": "code",
   "execution_count": null,
   "metadata": {},
   "outputs": [],
   "source": [
    "fixedTable[abs(fixedTable.v) < 0.01] \n",
    "# this gives us a list of all data points with absolute value less than 0.01 which is close enough to zero for our purposes"
   ]
  },
  {
   "cell_type": "code",
   "execution_count": null,
   "metadata": {},
   "outputs": [],
   "source": [
    "trimmedTable = fixedTable[76:370] # we pick some zeros to start and end out data at\n",
    "\n",
    "plt.figure(figsize=(15, 4))\n",
    "plt.plot(trimmedTable.t,trimmedTable.v,'.') # plot our data to see if it worked"
   ]
  },
  {
   "cell_type": "code",
   "execution_count": null,
   "metadata": {},
   "outputs": [],
   "source": [
    "x_data = trimmedTable.t\n",
    "y_data = trimmedTable.v\n",
    "\n",
    "from scipy import optimize\n",
    "def test_func(x, a, b , c):\n",
    "    return a * np.cos(b * x + c) #added one more parameter to account for the x shift\n",
    "\n",
    "params, params_covariance = optimize.curve_fit(test_func, x_data, y_data, p0=[max(trimmedTable.v), 3, 1])\n",
    "# give it some decent starting parameters\n",
    "\n",
    "print(params)\n",
    "\n",
    "plt.figure(figsize=(15, 4)) #increase horizontal width\n",
    "plt.scatter(x_data, y_data, label='Data')\n",
    "\n",
    "plt.plot(x_data, test_func(x_data, params[0], params[1], params[2]), \"k\", label='Fitted function')\n",
    "\n",
    "plt.show()"
   ]
  },
  {
   "cell_type": "markdown",
   "metadata": {},
   "source": [
    "If you are happy with all this then try load the CurrentVoltage file and getting a line of best fit for it.\n",
    "\n",
    "If have done that as well and still want to learn more about curve fiting  have a lock at mcba12-fitting-a-straight-line from michael's section."
   ]
  },
  {
   "cell_type": "code",
   "execution_count": null,
   "metadata": {},
   "outputs": [],
   "source": []
  }
 ],
 "metadata": {
  "kernelspec": {
   "display_name": "Python 3",
   "language": "python",
   "name": "python3"
  },
  "language_info": {
   "codemirror_mode": {
    "name": "ipython",
    "version": 3
   },
   "file_extension": ".py",
   "mimetype": "text/x-python",
   "name": "python",
   "nbconvert_exporter": "python",
   "pygments_lexer": "ipython3",
   "version": "3.8.5"
  }
 },
 "nbformat": 4,
 "nbformat_minor": 4
}
