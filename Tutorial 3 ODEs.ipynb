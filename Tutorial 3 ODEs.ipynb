{
 "cells": [
  {
   "cell_type": "markdown",
   "metadata": {},
   "source": [
    "## Using ODE int\n",
    "In this section we will learn how to use ODE int, from the scipy integration package.\n",
    "\n",
    "This will be important for the assignment"
   ]
  },
  {
   "cell_type": "code",
   "execution_count": 1,
   "metadata": {},
   "outputs": [],
   "source": [
    "import scipy.integrate\n",
    "import numpy as np\n",
    "from matplotlib import pyplot as plt"
   ]
  },
  {
   "cell_type": "markdown",
   "metadata": {},
   "source": [
    "$$\\frac{dy}{dt} = 2t$$"
   ]
  },
  {
   "cell_type": "code",
   "execution_count": 2,
   "metadata": {},
   "outputs": [
    {
     "data": {
      "text/plain": [
       "[<matplotlib.lines.Line2D at 0x273c2740f88>]"
      ]
     },
     "execution_count": 2,
     "metadata": {},
     "output_type": "execute_result"
    },
    {
     "data": {
      "image/png": "[encoded data removed]",
      "text/plain": [
       "<Figure size 432x288 with 1 Axes>"
      ]
     },
     "metadata": {
      "needs_background": "light"
     },
     "output_type": "display_data"
    }
   ],
   "source": [
    "# setting up our timebase array\n",
    "steps = 100\n",
    "timestep = 0.1 # the units depend on the problem\n",
    "timebase = np.arange(0,steps*timestep,timestep) # there are other ways to do this (e.g. linspace)\n",
    "\n",
    "# defining the function\n",
    "def fun(y, t):\n",
    "    return 2*t\n",
    "\n",
    "# Setting the inital value for y\n",
    "y0 = 1\n",
    "\n",
    "# Doing the integral\n",
    "y = scipy.integrate.odeint(fun, y0, timebase)\n",
    "\n",
    "# Plotting it\n",
    "plt.plot(timebase, y)"
   ]
  },
  {
   "cell_type": "markdown",
   "metadata": {},
   "source": [
    "# Double integrals: A falling ball\n",
    "Lets try using ODE int to get the trajectory of a falling ball\n",
    "\n",
    "$$\\frac{d \\ddot{x}}{dt} = a $$\n",
    "\n",
    "Split the second derivatives into two first derivatives\n",
    "\n",
    "$$\\frac{dx}{dt} = \\dot{x} \\qquad \\frac{d\\dot{x}}{dt} = a $$\n",
    "\n",
    "Rename the dots for coding clarity\n",
    "\n",
    "$$\\frac{dx}{dt} = v \\qquad \\frac{dv}{dt} = a $$"
   ]
  },
  {
   "cell_type": "code",
   "execution_count": 3,
   "metadata": {},
   "outputs": [
    {
     "data": {
      "text/plain": [
       "<matplotlib.legend.Legend at 0x273c2792f88>"
      ]
     },
     "execution_count": 3,
     "metadata": {},
     "output_type": "execute_result"
    },
    {
     "data": {
      "image/png": "[encoded data removed]",
      "text/plain": [
       "<Figure size 432x288 with 1 Axes>"
      ]
     },
     "metadata": {
      "needs_background": "light"
     },
     "output_type": "display_data"
    }
   ],
   "source": [
    "# setting up our timebase array\n",
    "steps = 100\n",
    "timestep = 0.1 # the units depend on the problem\n",
    "timebase = np.arange(0,steps*timestep,timestep)\n",
    "\n",
    "# defining the function\n",
    "def fun(y, t, g):\n",
    "    x,v = y # split the tuple y into its two values\n",
    "    \n",
    "    dxdt = v\n",
    "    dvdt = g \n",
    "    \n",
    "    return dxdt, dvdt # return a tuple of our derivatives\n",
    "\n",
    "# Setting the inital value for y\n",
    "y0 = 0,0\n",
    "\n",
    "# Doing the integral\n",
    "y = scipy.integrate.odeint(fun, y0, timebase, args=(-9.8,) ) # note that args wil only takes a tuple\n",
    "\n",
    "# Plotting it\n",
    "plt.plot(timebase, y[:,0], label=\"x\")\n",
    "plt.plot(timebase, y[:,1], label=\"v\")\n",
    "plt.legend()"
   ]
  },
  {
   "cell_type": "markdown",
   "metadata": {},
   "source": [
    "# Spring\n",
    "\n",
    "Lets do the same thing with the equation of motion for a spring\n",
    "\n",
    "$$ \\ddot{x} +\\omega^2 x = 0 $$"
   ]
  },
  {
   "cell_type": "code",
   "execution_count": 4,
   "metadata": {},
   "outputs": [
    {
     "ename": "SyntaxError",
     "evalue": "invalid syntax (<ipython-input-4-5a585783d91e>, line 10)",
     "output_type": "error",
     "traceback": [
      "\u001b[1;36m  File \u001b[1;32m\"<ipython-input-4-5a585783d91e>\"\u001b[1;36m, line \u001b[1;32m10\u001b[0m\n\u001b[1;33m    dxdt = # ???????\u001b[0m\n\u001b[1;37m                    ^\u001b[0m\n\u001b[1;31mSyntaxError\u001b[0m\u001b[1;31m:\u001b[0m invalid syntax\n"
     ]
    }
   ],
   "source": [
    "# setting up our timebase array\n",
    "steps = 1000\n",
    "timestep = 0.1 # the units depend on the problem\n",
    "timebase = np.arange(0,steps*timestep,timestep)\n",
    "\n",
    "# defining the function\n",
    "def osc(y, t, w):\n",
    "    x,v = y # split the tuple y into its two values\n",
    "    \n",
    "    dxdt = # ???????\n",
    "    dvdt = # ???????\n",
    "    \n",
    "    return dxdt, dvdt # return a tuple of our derivatives\n",
    "\n",
    "# Setting the inital value for y\n",
    "y0 = 1,0\n",
    "\n",
    "# Doing the integral\n",
    "y = scipy.integrate.odeint(osc, y0, timebase, args=(0.1,) ) # note that args wil only takes a tuple\n",
    "\n",
    "# Plotting it\n",
    "plt.plot(timebase, y[:,0], label=\"x\")\n",
    "plt.plot(timebase, y[:,1], label=\"v\")\n",
    "plt.legend()"
   ]
  },
  {
   "cell_type": "markdown",
   "metadata": {},
   "source": [
    "**Homework / Tute Work**\n",
    "\n",
    "1) Have a look at the [course notes](https://github.com/phys3112/intro/blob/master/mcba2-numerical-integration-of-ODEs.ipynb) or the [ODEint notes](https://docs.scipy.org/doc/scipy/reference/generated/scipy.integrate.odeint.html) to get a better idea of how the ODE function works.\n",
    "\n",
    "2) Find another set of differential equations and run them through ODE int. This is good practice for the assignment. One starting point is [wikipedia](https://en.wikipedia.org/wiki/List_of_named_differential_equations)\n",
    "\n",
    "Here are a few examples in increasing difficulty:\n",
    "* Radioactive decay\n",
    "* Newton's law of cooling\n",
    "* Predator–prey equations"
   ]
  },
  {
   "cell_type": "code",
   "execution_count": null,
   "metadata": {},
   "outputs": [],
   "source": []
  }
 ],
 "metadata": {
  "kernelspec": {
   "display_name": "Python 3",
   "language": "python",
   "name": "python3"
  },
  "language_info": {
   "codemirror_mode": {
    "name": "ipython",
    "version": 3
   },
   "file_extension": ".py",
   "mimetype": "text/x-python",
   "name": "python",
   "nbconvert_exporter": "python",
   "pygments_lexer": "ipython3",
   "version": "3.7.6"
  }
 },
 "nbformat": 4,
 "nbformat_minor": 2
}
