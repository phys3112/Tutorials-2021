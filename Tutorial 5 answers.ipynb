{
 "cells": [
  {
   "cell_type": "markdown",
   "metadata": {},
   "source": [
    "## Beginner\n",
    "\n",
    "Write your own iterative sequence to evaluate the following:\n",
    "- The first three numbers in a sequence are 1, 3, 7. \n",
    "- The following number is equal to the ratio of the differences of the previous three, with the most recent numbers on the numerator  (eg the 4th number is (7-3) /(3-1) = 2)\n",
    "- What is the 107th number in the sequence?\n",
    "- What is the largest number that occurs after 1000 iterations?\n",
    "(Note that they will not be integers for very long!)"
   ]
  },
  {
   "cell_type": "code",
   "execution_count": 1,
   "metadata": {},
   "outputs": [],
   "source": [
    "import numpy as np\n",
    "from matplotlib import pyplot as plt"
   ]
  },
  {
   "cell_type": "code",
   "execution_count": 2,
   "metadata": {},
   "outputs": [
    {
     "data": {
      "text/plain": [
       "1000"
      ]
     },
     "execution_count": 2,
     "metadata": {},
     "output_type": "execute_result"
    }
   ],
   "source": [
    "seq = list([1,3,7])\n",
    "\n",
    "for i in range(2,1000-1):\n",
    "    new = (seq[i] - seq[i-1])/(seq[i-1] - seq[i-2]) \n",
    "    seq.append(new)\n",
    "    \n",
    "len(seq)"
   ]
  },
  {
   "cell_type": "code",
   "execution_count": 3,
   "metadata": {},
   "outputs": [
    {
     "data": {
      "text/plain": [
       "-1.7264741095257057"
      ]
     },
     "execution_count": 3,
     "metadata": {},
     "output_type": "execute_result"
    }
   ],
   "source": [
    "seq[107]"
   ]
  },
  {
   "cell_type": "code",
   "execution_count": 4,
   "metadata": {},
   "outputs": [
    {
     "data": {
      "text/plain": [
       "32565.70342281041"
      ]
     },
     "execution_count": 4,
     "metadata": {},
     "output_type": "execute_result"
    }
   ],
   "source": [
    "np.max(seq)"
   ]
  },
  {
   "cell_type": "markdown",
   "metadata": {},
   "source": [
    "## Advanced\n",
    "Implement the two boundry conditions: Fixed voltage, constant gradient"
   ]
  },
  {
   "cell_type": "code",
   "execution_count": 5,
   "metadata": {},
   "outputs": [
    {
     "data": {
      "text/plain": [
       "Text(0, 0.5, 'Voltage, V')"
      ]
     },
     "execution_count": 5,
     "metadata": {},
     "output_type": "execute_result"
    },
    {
     "data": {
      "image/png": "[encoded data removed]",
      "text/plain": [
       "<Figure size 432x288 with 1 Axes>"
      ]
     },
     "metadata": {
      "needs_background": "light"
     },
     "output_type": "display_data"
    }
   ],
   "source": [
    "# Constant Voltage (Dirichlet Boundary condition)\n",
    "\n",
    "nodes = 100 #Number of nodes we will have in our simulation domain.\n",
    "length = 1 #m, the length of our domain.\n",
    "a = length/(nodes-1) # The step size 'a', in metres. \n",
    "\n",
    "# Have a look at the diag documentation linked above \n",
    "Poisson_Matrix = np.diag([-2]*nodes,0) + np.diag([1]*(nodes-1),1) + np.diag([1]*(nodes-1),-1)\n",
    "\n",
    "\n",
    "centre = length/2\n",
    "rho = np.zeros(nodes)\n",
    "for i in range(nodes):\n",
    "    x = i*a - centre # Find our position relative to centre\n",
    "    rho[i] = 0.5*x\n",
    "\n",
    "eps = 1\n",
    "rho_mod = rho*-1*a**2*eps\n",
    "\n",
    "# MODIFICATION STARTS HERE\n",
    "edge = np.zeros(np.shape(rho)) \n",
    "edge[0] = 1\n",
    "edge[-1] = 1.01\n",
    "\n",
    "rho_mod = rho_mod - edge\n",
    "\n",
    "# Finally, let's generate a solution via matrix inversion. As always, this is quite a slow method (but we're lazy :) )\n",
    "V = np.linalg.solve(Poisson_Matrix, rho_mod)\n",
    "plt.figure()\n",
    "plt.plot(V)\n",
    "plt.ylabel('Voltage, V')"
   ]
  },
  {
   "cell_type": "code",
   "execution_count": 6,
   "metadata": {},
   "outputs": [
    {
     "name": "stdout",
     "output_type": "stream",
     "text": [
      "[[-1  1  0  0  0  0  0  0  0  0]\n",
      " [ 1 -2  1  0  0  0  0  0  0  0]\n",
      " [ 0  1 -2  1  0  0  0  0  0  0]\n",
      " [ 0  0  1 -2  1  0  0  0  0  0]\n",
      " [ 0  0  0  1 -2  1  0  0  0  0]\n",
      " [ 0  0  0  0  1 -2  1  0  0  0]\n",
      " [ 0  0  0  0  0  1 -2  1  0  0]\n",
      " [ 0  0  0  0  0  0  1 -2  1  0]\n",
      " [ 0  0  0  0  0  0  0  1 -2  1]\n",
      " [ 0  0  0  0  0  0  0  0  1 -1]]\n"
     ]
    },
    {
     "data": {
      "text/plain": [
       "<matplotlib.image.AxesImage at 0x1c6cac1f108>"
      ]
     },
     "execution_count": 6,
     "metadata": {},
     "output_type": "execute_result"
    },
    {
     "data": {
      "text/plain": [
       "<Figure size 432x288 with 0 Axes>"
      ]
     },
     "metadata": {},
     "output_type": "display_data"
    },
    {
     "data": {
      "image/png": "[encoded data removed]",
      "text/plain": [
       "<Figure size 288x288 with 1 Axes>"
      ]
     },
     "metadata": {
      "needs_background": "light"
     },
     "output_type": "display_data"
    }
   ],
   "source": [
    "# Constant Gradient (Neumann Boundary condition)\n",
    "\n",
    "nodes = 10 #Number of nodes we will have in our simulation domain.\n",
    "length = 1 #m, the length of our domain.\n",
    "a = length/(nodes-1) # The step size 'a', in metres. \n",
    "\n",
    "# Have a look at the diag documentation linked above \n",
    "Poisson_Matrix = np.diag([-2]*nodes,0) + np.diag([1]*(nodes-1),1) + np.diag([1]*(nodes-1),-1)\n",
    "\n",
    "Poisson_Matrix[0][0] = -1\n",
    "Poisson_Matrix[-1][-1] = -1\n",
    "\n",
    "# Print the matrix to examine it ourselves\n",
    "print(Poisson_Matrix)\n",
    "plt.figure()\n",
    "plt.matshow(Poisson_Matrix)\n",
    "\n",
    "#The rest of the solution is as normal"
   ]
  },
  {
   "cell_type": "code",
   "execution_count": null,
   "metadata": {},
   "outputs": [],
   "source": []
  }
 ],
 "metadata": {
  "kernelspec": {
   "display_name": "Python 3",
   "language": "python",
   "name": "python3"
  },
  "language_info": {
   "codemirror_mode": {
    "name": "ipython",
    "version": 3
   },
   "file_extension": ".py",
   "mimetype": "text/x-python",
   "name": "python",
   "nbconvert_exporter": "python",
   "pygments_lexer": "ipython3",
   "version": "3.7.6"
  }
 },
 "nbformat": 4,
 "nbformat_minor": 4
}
